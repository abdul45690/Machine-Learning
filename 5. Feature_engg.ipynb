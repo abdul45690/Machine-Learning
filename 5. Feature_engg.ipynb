{
 "cells": [
  {
   "cell_type": "markdown",
   "id": "cac3af12",
   "metadata": {},
   "source": [
    "# Q1. What is data encoding? How is it useful in data science?\n",
    "To convert categorical data into numerical format so that it can be processed by ML algorithm is called data encoding.\n",
    "\n",
    "Data encoding is useful in data science because machine learning models require numerical input. By encoding categorical data into a numerical format, we can include categorical data in our models and analyze its impact on the output variable.\n"
   ]
  },
  {
   "cell_type": "markdown",
   "id": "5767167d",
   "metadata": {},
   "source": [
    "# Q2. What is nominal encoding? Provide an example of how you would use it in a real-world scenario.\n",
    "Nominal encoding is a technique that assigns a unique numerical value to each category in a categorical variable. This technique is useful when there is an inherent ordering or hierarchy in the categorical data. For example, in a variable that describes education level, there may be an inherent ordering of the categories (e.g., elementary school < high school < college). In such cases, nominal encoding can assign values that reflect this ordering.\n",
    "\n",
    "|categories|encoded|\n",
    "|-----|----|\n",
    "|elementary school|1|\n",
    "|high school |2|\n",
    "|college|3|\n",
    "\n"
   ]
  },
  {
   "cell_type": "markdown",
   "id": "11767b96",
   "metadata": {},
   "source": [
    "# Q3. In what situations is nominal encoding preferred over one-hot encoding? Provide a practical example.\n",
    "Nominal encoding is preferred over one-hot encoding when the number of unique values in a categorical variable is large. One-hot encoding can result in a large number of columns, which can be computationally expensive and may lead to overfitting, especially when working with limited data. In such cases, nominal encoding can be a more efficient and effective way of encoding categorical variables.\n",
    "\n",
    "For example, suppose we have a dataset with a categorical variable called \"City\" that lists the names of different cities. If we use one-hot encoding on this variable, we will end up with a column for each unique city name, which could lead to a large number of columns. Instead, we can use nominal encoding to encode each city name with a unique integer value. This will reduce the number of columns and help improve the efficiency of the model.\n"
   ]
  },
  {
   "cell_type": "markdown",
   "id": "5e1000a5",
   "metadata": {},
   "source": [
    "# Q4. Suppose you have a dataset containing categorical data with 5 unique values. Which encoding technique would you use to transform this data into a format suitable for machine learning algorithms? Explain why you made this choice.\n",
    "For a dataset with 5 unique categorical values, one-hot encoding is a suitable choice. One-hot encoding involves creating a binary vector for each unique category, with a value of 1 indicating the presence of that category and 0 indicating its absence. This technique is preferred for a small number of unique categories as it does not result in a large number of new features, which could lead to the curse of dimensionality. Additionally, one-hot encoding is suitable for algorithms that can handle high dimensional feature spaces, such as decision trees and deep learning models.\n"
   ]
  },
  {
   "cell_type": "markdown",
   "id": "43e885b5",
   "metadata": {},
   "source": [
    "# Q5. In a machine learning project, you have a dataset with 1000 rows and 5 columns. Two of the columns are categorical, and the remaining three columns are numerical. If you were to use nominal encoding to transform the categorical data, how many new columns would be created? Show your calculations.\n",
    "It depends on how many unique values each of the two categorical columns has. Let's assume that the first categorical column has 4 unique values, and the second categorical column has 3 unique values.\n",
    "\n",
    "Using nominal encoding, we can create a new column for each unique value in the categorical columns. Therefore, for the first categorical column, we would create 4 new columns, and for the second categorical column, we would create 3 new columns.\n",
    "\n",
    "In total, we would create 4 + 3 = 7 new columns.\n"
   ]
  },
  {
   "cell_type": "markdown",
   "id": "b40b5a50",
   "metadata": {},
   "source": [
    "# Q6. You are working with a dataset containing information about different types of animals, including their species, habitat, and diet. Which encoding technique would you use to transform the categorical data into a format suitable for machine learning algorithms? Justify your answer.\n",
    "\n",
    "The choice of encoding technique for categorical data in machine learning depends on the specific characteristics of the data and the problem at hand. In this case, since the animal species, habitat, and diet are all nominal variables with no inherent order or hierarchy, nominal encoding would be the most appropriate choice. This involves assigning a unique integer value to each category in each variable, which allows the data to be represented numerically while preserving the distinction between the different categories.\n",
    "\n",
    "For example, suppose we have the following data for three animals:\n",
    "\n",
    "|Species|\tHabitat|\tDiet|\n",
    "|--|--|---|\n",
    "Lion|\tSavannah|\tCarnivore\n",
    "Gorilla\t|Forest|\tHerbivore\n",
    "Zebra\t|Savannah\t|Herbivore\n",
    "\n",
    "Using nominal encoding, we could transform this data into the following format:\n",
    "\n",
    "|Species|\tHabitat|\tDiet|\n",
    "|--|--|--|\n",
    "1|\t1|\t1\n",
    "2|\t2|\t2\n",
    "3|\t1|\t2\n",
    "\n",
    "Here, Lion is encoded as 1, Gorilla as 2, and Zebra as 3. Savannah is encoded as 1 and Forest as 2, while Carnivore is encoded as 1 and Herbivore as 2. This encoding preserves the distinct categories of each variable while allowing the data to be represented numerically, which is suitable for use in many machine learning algorithms.\n"
   ]
  },
  {
   "cell_type": "code",
   "execution_count": null,
   "id": "7375bcb1",
   "metadata": {},
   "outputs": [],
   "source": [
    "# Q7.You are working on a project that involves predicting customer churn for a telecommunications\n",
    "# company. You have a dataset with 5 features, including the customer's gender, age, contract type,\n",
    "# monthly charges, and tenure. Which encoding technique(s) would you use to transform the categorical\n",
    "# data into numerical data? Provide a step-by-step explanation of how you would implement the encoding."
   ]
  }
 ],
 "metadata": {
  "kernelspec": {
   "display_name": "Python 3 (ipykernel)",
   "language": "python",
   "name": "python3"
  },
  "language_info": {
   "codemirror_mode": {
    "name": "ipython",
    "version": 3
   },
   "file_extension": ".py",
   "mimetype": "text/x-python",
   "name": "python",
   "nbconvert_exporter": "python",
   "pygments_lexer": "ipython3",
   "version": "3.9.12"
  }
 },
 "nbformat": 4,
 "nbformat_minor": 5
}
